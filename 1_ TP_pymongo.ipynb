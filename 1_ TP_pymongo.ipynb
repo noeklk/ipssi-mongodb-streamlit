{
 "cells": [
  {
   "cell_type": "markdown",
   "metadata": {},
   "source": [
    "# Mongodb"
   ]
  },
  {
   "cell_type": "markdown",
   "metadata": {},
   "source": [
    "Dans ce TP nous allons utiliser la librairie pymongo, pour créer une base de données dans mongodb avec python puis la questionner."
   ]
  },
  {
   "cell_type": "markdown",
   "metadata": {},
   "source": [
    "### Data\n",
    "Voici des données au format csv, elles sont une partie d'un dataset recensant les crimes au Etats-Unis entre 1984 et 2014.\n",
    "\n",
    "https://drive.google.com/file/d/10z7kUXDO4BHffJ6ZfVc42CgIs5558vGd/view?usp=sharing"
   ]
  },
  {
   "cell_type": "markdown",
   "metadata": {},
   "source": [
    "### Création de la BDD"
   ]
  },
  {
   "cell_type": "code",
   "execution_count": 4,
   "metadata": {},
   "outputs": [],
   "source": [
    "import pandas as pd\n",
    "from pymongo import MongoClient\n",
    "import json\n",
    "import streamlit as st"
   ]
  },
  {
   "cell_type": "markdown",
   "metadata": {},
   "source": [
    "Créez une fonction python pour passer ce csv dans une base de données mongo, chaque lignes devra être un document."
   ]
  },
  {
   "cell_type": "markdown",
   "metadata": {},
   "source": [
    "### Requêter la BDD"
   ]
  },
  {
   "cell_type": "markdown",
   "metadata": {},
   "source": [
    "Créez un connecteur pour votre BDD"
   ]
  },
  {
   "cell_type": "code",
   "execution_count": 45,
   "metadata": {},
   "outputs": [],
   "source": [
    "client = MongoClient(\"localhost\", 4344)\n",
    "db = client.crimes\n",
    "table = db.documents"
   ]
  },
  {
   "cell_type": "code",
   "execution_count": 43,
   "metadata": {},
   "outputs": [],
   "source": [
    "# Lecture du csv\n",
    "df = pd.read_csv('Crime.csv')"
   ]
  },
  {
   "cell_type": "code",
   "execution_count": 46,
   "metadata": {},
   "outputs": [],
   "source": [
    "# En une seule fois\n",
    "if table.count_documents({}) == 0:    \n",
    "    records = df.to_dict(orient='records')\n",
    "    table.insert_many(records)"
   ]
  },
  {
   "cell_type": "code",
   "execution_count": 47,
   "metadata": {},
   "outputs": [],
   "source": [
    "# Ligne par ligne\n",
    "if table.count_documents({}) == 0:\n",
    "    json_docs = df.apply(lambda x: x.to_json(), axis=1)\n",
    "    for document in json_docs:\n",
    "\n",
    "        json_doc = json.loads(document)\n",
    "        table.insert_one(json_doc)"
   ]
  },
  {
   "cell_type": "markdown",
   "metadata": {},
   "source": [
    "##### Quelles sont les armes utilisées par les criminel?\n",
    "Retournez par rapport à tous les documents les valeurs uniques de la clef weapon."
   ]
  },
  {
   "cell_type": "code",
   "execution_count": 8,
   "metadata": {},
   "outputs": [
    {
     "data": {
      "text/plain": [
       "[{'_id': 'Handgun', 'count': 45748},\n",
       " {'_id': 'Knife', 'count': 19586},\n",
       " {'_id': 'Blunt Object', 'count': 11150},\n",
       " {'_id': 'Shotgun', 'count': 7419},\n",
       " {'_id': 'Rifle', 'count': 4968},\n",
       " {'_id': 'Firearm', 'count': 3629},\n",
       " {'_id': 'Unknown', 'count': 3134},\n",
       " {'_id': 'Strangulation', 'count': 1742},\n",
       " {'_id': 'Fire', 'count': 1254},\n",
       " {'_id': 'Suffocation', 'count': 600},\n",
       " {'_id': 'Drowning', 'count': 265},\n",
       " {'_id': 'Gun', 'count': 212},\n",
       " {'_id': 'Drugs', 'count': 101},\n",
       " {'_id': 'Poison', 'count': 80},\n",
       " {'_id': 'Explosives', 'count': 61},\n",
       " {'_id': 'Fall', 'count': 50}]"
      ]
     },
     "execution_count": 8,
     "metadata": {},
     "output_type": "execute_result"
    }
   ],
   "source": [
    "table.distinct(\"Weapon\")\n",
    "\n",
    "list(table.aggregate([\n",
    "    { \"$group\": {\n",
    "        \"_id\": \"$Weapon\", \"count\" : {\"$sum\": 1}\n",
    "    }},\n",
    "    { \"$sort\": {\"count\": -1}}\n",
    "]))"
   ]
  },
  {
   "cell_type": "markdown",
   "metadata": {},
   "source": [
    "##### Combien de crimes ont été commis en 1980?"
   ]
  },
  {
   "cell_type": "code",
   "execution_count": 54,
   "metadata": {},
   "outputs": [
    {
     "data": {
      "text/plain": [
       "23092"
      ]
     },
     "execution_count": 54,
     "metadata": {},
     "output_type": "execute_result"
    }
   ],
   "source": [
    "table.count_documents({\"Year\":1980})"
   ]
  },
  {
   "cell_type": "markdown",
   "metadata": {},
   "source": [
    "##### Combien de crimes ont été commis par des hommes au Texas?"
   ]
  },
  {
   "cell_type": "code",
   "execution_count": 84,
   "metadata": {},
   "outputs": [
    {
     "data": {
      "text/plain": [
       "6160"
      ]
     },
     "execution_count": 84,
     "metadata": {},
     "output_type": "execute_result"
    }
   ],
   "source": [
    "table.count_documents({\"Perpetrator Sex\": \"Male\", \"State\": \"Texas\"})"
   ]
  },
  {
   "cell_type": "markdown",
   "metadata": {},
   "source": [
    "##### Combien de crimes ont été commis par chaque sexe en Alaska?"
   ]
  },
  {
   "cell_type": "code",
   "execution_count": 114,
   "metadata": {},
   "outputs": [
    {
     "data": {
      "text/plain": [
       "[{'_id': 'Male', 'crimes commis': 226},\n",
       " {'_id': 'Unknown', 'crimes commis': 63},\n",
       " {'_id': 'Female', 'crimes commis': 28}]"
      ]
     },
     "execution_count": 114,
     "metadata": {},
     "output_type": "execute_result"
    }
   ],
   "source": [
    "maleAndFemalePerpetratorsInAlaska = table.aggregate([\n",
    "    { \"$match\": { \"State\": \"Alaska\" }},\n",
    "    { \"$group\": {\"_id\": \"$Perpetrator Sex\", \"crimes commis\": {\"$sum\": 1}}},\n",
    "])\n",
    "\n",
    "list(maleAndFemalePerpetratorsInAlaska)"
   ]
  },
  {
   "cell_type": "markdown",
   "metadata": {},
   "source": [
    "##### Combien y a-t'il eu de victimes dans chaque état?"
   ]
  },
  {
   "cell_type": "code",
   "execution_count": 19,
   "metadata": {},
   "outputs": [
    {
     "data": {
      "text/plain": [
       "[{'_id': 'California', 'victimes': 1678},\n",
       " {'_id': 'New York', 'victimes': 1182},\n",
       " {'_id': 'Florida', 'victimes': 888},\n",
       " {'_id': 'Texas', 'victimes': 810},\n",
       " {'_id': 'New Jersey', 'victimes': 558},\n",
       " {'_id': 'Michigan', 'victimes': 546},\n",
       " {'_id': 'Illinois', 'victimes': 512},\n",
       " {'_id': 'Pennsylvania', 'victimes': 420},\n",
       " {'_id': 'Ohio', 'victimes': 354},\n",
       " {'_id': 'Maryland', 'victimes': 256},\n",
       " {'_id': 'Massachusetts', 'victimes': 256},\n",
       " {'_id': 'Missouri', 'victimes': 250},\n",
       " {'_id': 'Louisiana', 'victimes': 230},\n",
       " {'_id': 'Washington', 'victimes': 216},\n",
       " {'_id': 'Connecticut', 'victimes': 198},\n",
       " {'_id': 'Alaska', 'victimes': 188},\n",
       " {'_id': 'Indiana', 'victimes': 186},\n",
       " {'_id': 'Tennessee', 'victimes': 154},\n",
       " {'_id': 'Virginia', 'victimes': 148},\n",
       " {'_id': 'Nevada', 'victimes': 132},\n",
       " {'_id': 'Arizona', 'victimes': 126},\n",
       " {'_id': 'Kentucky', 'victimes': 122},\n",
       " {'_id': 'Kansas', 'victimes': 120},\n",
       " {'_id': 'North Carolina', 'victimes': 116},\n",
       " {'_id': 'Arkansas', 'victimes': 114},\n",
       " {'_id': 'Alabama', 'victimes': 114},\n",
       " {'_id': 'Colorado', 'victimes': 112},\n",
       " {'_id': 'Oklahoma', 'victimes': 104},\n",
       " {'_id': 'Iowa', 'victimes': 100},\n",
       " {'_id': 'Minnesota', 'victimes': 98},\n",
       " {'_id': 'Wisconsin', 'victimes': 96},\n",
       " {'_id': 'Oregon', 'victimes': 96},\n",
       " {'_id': 'Georgia', 'victimes': 88},\n",
       " {'_id': 'Mississippi', 'victimes': 78},\n",
       " {'_id': 'South Carolina', 'victimes': 54},\n",
       " {'_id': 'West Virginia', 'victimes': 52},\n",
       " {'_id': 'Nebraska', 'victimes': 42},\n",
       " {'_id': 'Maine', 'victimes': 36},\n",
       " {'_id': 'New Mexico', 'victimes': 30},\n",
       " {'_id': 'North Dakota', 'victimes': 30},\n",
       " {'_id': 'Idaho', 'victimes': 28},\n",
       " {'_id': 'Hawaii', 'victimes': 26},\n",
       " {'_id': 'Montana', 'victimes': 22},\n",
       " {'_id': 'Wyoming', 'victimes': 20},\n",
       " {'_id': 'Utah', 'victimes': 18},\n",
       " {'_id': 'Delaware', 'victimes': 14},\n",
       " {'_id': 'Vermont', 'victimes': 6},\n",
       " {'_id': 'South Dakota', 'victimes': 6},\n",
       " {'_id': 'Rhodes Island', 'victimes': 6},\n",
       " {'_id': 'New Hampshire', 'victimes': 4},\n",
       " {'_id': 'District of Columbia', 'victimes': 0}]"
      ]
     },
     "execution_count": 19,
     "metadata": {},
     "output_type": "execute_result"
    }
   ],
   "source": [
    "victimInEachState = table.aggregate([\n",
    "    { \"$group\" : {\n",
    "        \"_id\": \"$State\", \"victimes\": {\"$sum\": \"$Victim Count\"}\n",
    "    }},\n",
    "    { \"$sort\": { \"victimes\": -1}}\n",
    "])\n",
    "\n",
    "list(victimInEachState)"
   ]
  },
  {
   "cell_type": "markdown",
   "metadata": {},
   "source": [
    "### Bonus"
   ]
  },
  {
   "cell_type": "markdown",
   "metadata": {},
   "source": [
    "Installez la librairie streamlit\n",
    "Créez un dashboard qui donne la posibilité de séléctionner une année pour retourner un barplot du nombre de crime commis avec chaque arme."
   ]
  },
  {
   "cell_type": "code",
   "execution_count": 9,
   "metadata": {},
   "outputs": [
    {
     "data": {
      "text/plain": [
       "[{'_id': 'Drugs', 'victimes': 0},\n",
       " {'_id': 'Gun', 'victimes': 12},\n",
       " {'_id': 'Rifle', 'victimes': 204},\n",
       " {'_id': 'Strangulation', 'victimes': 38},\n",
       " {'_id': 'Knife', 'victimes': 204},\n",
       " {'_id': 'Unknown', 'victimes': 122},\n",
       " {'_id': 'Shotgun', 'victimes': 154},\n",
       " {'_id': 'Fall', 'victimes': 2},\n",
       " {'_id': 'Blunt Object', 'victimes': 80},\n",
       " {'_id': 'Fire', 'victimes': 524},\n",
       " {'_id': 'Handgun', 'victimes': 896},\n",
       " {'_id': 'Explosives', 'victimes': 32},\n",
       " {'_id': 'Poison', 'victimes': 2},\n",
       " {'_id': 'Suffocation', 'victimes': 20},\n",
       " {'_id': 'Firearm', 'victimes': 116},\n",
       " {'_id': 'Drowning', 'victimes': 4}]"
      ]
     },
     "execution_count": 9,
     "metadata": {},
     "output_type": "execute_result"
    }
   ],
   "source": [
    "victimWithEachWeapon = table.aggregate([\n",
    "    {\"$match\": {\"Year\": 1980}},\n",
    "    { \"$group\" : {\n",
    "        \"_id\": \"$Weapon\", \"victimes\": {\"$sum\": \"$Victim Count\"}\n",
    "    }}\n",
    "])\n",
    "    \n",
    "list(victimWithEachWeapon)"
   ]
  },
  {
   "cell_type": "code",
   "execution_count": 47,
   "metadata": {},
   "outputs": [
    {
     "data": {
      "text/plain": [
       "[{'_id': 25, 'victimes': 3942},\n",
       " {'_id': 23, 'victimes': 3581},\n",
       " {'_id': 24, 'victimes': 3471},\n",
       " {'_id': 22, 'victimes': 3418},\n",
       " {'_id': 26, 'victimes': 3397},\n",
       " {'_id': 27, 'victimes': 3300},\n",
       " {'_id': 30, 'victimes': 3294},\n",
       " {'_id': 21, 'victimes': 3193},\n",
       " {'_id': 20, 'victimes': 3176},\n",
       " {'_id': 29, 'victimes': 3106},\n",
       " {'_id': 28, 'victimes': 3064},\n",
       " {'_id': 32, 'victimes': 2711},\n",
       " {'_id': 19, 'victimes': 2675},\n",
       " {'_id': 31, 'victimes': 2664},\n",
       " {'_id': 33, 'victimes': 2377},\n",
       " {'_id': 34, 'victimes': 2290},\n",
       " {'_id': 35, 'victimes': 2275},\n",
       " {'_id': 18, 'victimes': 2172},\n",
       " {'_id': 36, 'victimes': 1906},\n",
       " {'_id': 37, 'victimes': 1853},\n",
       " {'_id': 40, 'victimes': 1770},\n",
       " {'_id': 17, 'victimes': 1685},\n",
       " {'_id': 38, 'victimes': 1675},\n",
       " {'_id': 39, 'victimes': 1644},\n",
       " {'_id': 99, 'victimes': 1622},\n",
       " {'_id': 42, 'victimes': 1468},\n",
       " {'_id': 41, 'victimes': 1379},\n",
       " {'_id': 43, 'victimes': 1217},\n",
       " {'_id': 45, 'victimes': 1195},\n",
       " {'_id': 50, 'victimes': 1156},\n",
       " {'_id': 44, 'victimes': 1115},\n",
       " {'_id': 16, 'victimes': 1078},\n",
       " {'_id': 0, 'victimes': 1063},\n",
       " {'_id': 46, 'victimes': 1057},\n",
       " {'_id': 47, 'victimes': 1051},\n",
       " {'_id': 52, 'victimes': 994},\n",
       " {'_id': 48, 'victimes': 959},\n",
       " {'_id': 49, 'victimes': 886},\n",
       " {'_id': 53, 'victimes': 875},\n",
       " {'_id': 51, 'victimes': 856},\n",
       " {'_id': 55, 'victimes': 847},\n",
       " {'_id': 54, 'victimes': 813},\n",
       " {'_id': 56, 'victimes': 807},\n",
       " {'_id': 57, 'victimes': 717},\n",
       " {'_id': 15, 'victimes': 690},\n",
       " {'_id': 60, 'victimes': 675},\n",
       " {'_id': 62, 'victimes': 634},\n",
       " {'_id': 58, 'victimes': 633},\n",
       " {'_id': 59, 'victimes': 598},\n",
       " {'_id': 1, 'victimes': 587},\n",
       " {'_id': 2, 'victimes': 556},\n",
       " {'_id': 61, 'victimes': 532},\n",
       " {'_id': 63, 'victimes': 523},\n",
       " {'_id': 65, 'victimes': 483},\n",
       " {'_id': 64, 'victimes': 409},\n",
       " {'_id': 67, 'victimes': 408},\n",
       " {'_id': 14, 'victimes': 403},\n",
       " {'_id': 68, 'victimes': 374},\n",
       " {'_id': 70, 'victimes': 361},\n",
       " {'_id': 72, 'victimes': 342},\n",
       " {'_id': 66, 'victimes': 321},\n",
       " {'_id': 71, 'victimes': 321},\n",
       " {'_id': 3, 'victimes': 317},\n",
       " {'_id': 69, 'victimes': 307},\n",
       " {'_id': 13, 'victimes': 271},\n",
       " {'_id': 4, 'victimes': 260},\n",
       " {'_id': 73, 'victimes': 252},\n",
       " {'_id': 75, 'victimes': 251},\n",
       " {'_id': 76, 'victimes': 241},\n",
       " {'_id': 74, 'victimes': 232},\n",
       " {'_id': 5, 'victimes': 204},\n",
       " {'_id': 79, 'victimes': 203},\n",
       " {'_id': 77, 'victimes': 197},\n",
       " {'_id': 12, 'victimes': 193},\n",
       " {'_id': 78, 'victimes': 180},\n",
       " {'_id': 81, 'victimes': 171},\n",
       " {'_id': 7, 'victimes': 166},\n",
       " {'_id': 80, 'victimes': 161},\n",
       " {'_id': 10, 'victimes': 160},\n",
       " {'_id': 82, 'victimes': 155},\n",
       " {'_id': 11, 'victimes': 152},\n",
       " {'_id': 6, 'victimes': 151},\n",
       " {'_id': 9, 'victimes': 134},\n",
       " {'_id': 8, 'victimes': 126},\n",
       " {'_id': 84, 'victimes': 120},\n",
       " {'_id': 83, 'victimes': 118},\n",
       " {'_id': 86, 'victimes': 111},\n",
       " {'_id': 85, 'victimes': 95},\n",
       " {'_id': 998, 'victimes': 94},\n",
       " {'_id': 87, 'victimes': 62},\n",
       " {'_id': 88, 'victimes': 53},\n",
       " {'_id': 90, 'victimes': 49},\n",
       " {'_id': 89, 'victimes': 47},\n",
       " {'_id': 91, 'victimes': 30},\n",
       " {'_id': 92, 'victimes': 28},\n",
       " {'_id': 93, 'victimes': 25},\n",
       " {'_id': 94, 'victimes': 17},\n",
       " {'_id': 95, 'victimes': 9},\n",
       " {'_id': 97, 'victimes': 5},\n",
       " {'_id': 96, 'victimes': 4},\n",
       " {'_id': 98, 'victimes': 4}]"
      ]
     },
     "execution_count": 47,
     "metadata": {},
     "output_type": "execute_result"
    }
   ],
   "source": [
    "# QCM 2\n",
    "victimWithEachAge = table.aggregate([\n",
    "    { \"$group\" : {\n",
    "        \"_id\": \"$Victim Age\", \"victimes\": {\"$sum\": 1}\n",
    "    }},\n",
    "    { \"$sort\" : {\n",
    "        \"victimes\": -1\n",
    "    }}\n",
    "])\n",
    "    \n",
    "list(victimWithEachAge)\n",
    "\n"
   ]
  },
  {
   "cell_type": "code",
   "execution_count": 48,
   "metadata": {},
   "outputs": [
    {
     "data": {
      "text/plain": [
       "[{'_id': 0, 'victimes': 37},\n",
       " {'_id': 2, 'victimes': 14},\n",
       " {'_id': 1, 'victimes': 12},\n",
       " {'_id': 3, 'victimes': 12},\n",
       " {'_id': 5, 'victimes': 10},\n",
       " {'_id': 24, 'victimes': 9},\n",
       " {'_id': 99, 'victimes': 7},\n",
       " {'_id': 19, 'victimes': 7},\n",
       " {'_id': 36, 'victimes': 7},\n",
       " {'_id': 17, 'victimes': 7},\n",
       " {'_id': 30, 'victimes': 7},\n",
       " {'_id': 4, 'victimes': 6},\n",
       " {'_id': 16, 'victimes': 6},\n",
       " {'_id': 20, 'victimes': 6},\n",
       " {'_id': 22, 'victimes': 6},\n",
       " {'_id': 33, 'victimes': 5},\n",
       " {'_id': 27, 'victimes': 5},\n",
       " {'_id': 7, 'victimes': 5},\n",
       " {'_id': 37, 'victimes': 4},\n",
       " {'_id': 31, 'victimes': 4},\n",
       " {'_id': 38, 'victimes': 4},\n",
       " {'_id': 9, 'victimes': 4},\n",
       " {'_id': 35, 'victimes': 4},\n",
       " {'_id': 26, 'victimes': 4},\n",
       " {'_id': 25, 'victimes': 3},\n",
       " {'_id': 18, 'victimes': 3},\n",
       " {'_id': 28, 'victimes': 3},\n",
       " {'_id': 6, 'victimes': 3},\n",
       " {'_id': 58, 'victimes': 3},\n",
       " {'_id': 41, 'victimes': 3},\n",
       " {'_id': 11, 'victimes': 3},\n",
       " {'_id': 29, 'victimes': 3},\n",
       " {'_id': 46, 'victimes': 3},\n",
       " {'_id': 8, 'victimes': 2},\n",
       " {'_id': 13, 'victimes': 2},\n",
       " {'_id': 39, 'victimes': 2},\n",
       " {'_id': 43, 'victimes': 2},\n",
       " {'_id': 54, 'victimes': 2},\n",
       " {'_id': 23, 'victimes': 2},\n",
       " {'_id': 40, 'victimes': 2},\n",
       " {'_id': 34, 'victimes': 2},\n",
       " {'_id': 32, 'victimes': 2},\n",
       " {'_id': 44, 'victimes': 2},\n",
       " {'_id': 14, 'victimes': 2},\n",
       " {'_id': 10, 'victimes': 1},\n",
       " {'_id': 12, 'victimes': 1},\n",
       " {'_id': 72, 'victimes': 1},\n",
       " {'_id': 66, 'victimes': 1},\n",
       " {'_id': 50, 'victimes': 1},\n",
       " {'_id': 55, 'victimes': 1},\n",
       " {'_id': 47, 'victimes': 1},\n",
       " {'_id': 48, 'victimes': 1},\n",
       " {'_id': 61, 'victimes': 1},\n",
       " {'_id': 56, 'victimes': 1},\n",
       " {'_id': 83, 'victimes': 1},\n",
       " {'_id': 21, 'victimes': 1},\n",
       " {'_id': 76, 'victimes': 1},\n",
       " {'_id': 62, 'victimes': 1},\n",
       " {'_id': 59, 'victimes': 1},\n",
       " {'_id': 79, 'victimes': 1},\n",
       " {'_id': 57, 'victimes': 1},\n",
       " {'_id': 90, 'victimes': 1},\n",
       " {'_id': 75, 'victimes': 1},\n",
       " {'_id': 67, 'victimes': 1},\n",
       " {'_id': 63, 'victimes': 1},\n",
       " {'_id': 42, 'victimes': 1},\n",
       " {'_id': 45, 'victimes': 1},\n",
       " {'_id': 49, 'victimes': 1}]"
      ]
     },
     "execution_count": 48,
     "metadata": {},
     "output_type": "execute_result"
    }
   ],
   "source": [
    "# QCM 3\n",
    "victimWithEachAgeByVictim = table.aggregate([\n",
    "    {\"$match\": { \"Weapon\": \"Drowning\"}},\n",
    "    { \"$group\" : {\n",
    "        \"_id\": \"$Victim Age\", \"victimes\": {\"$sum\": 1}\n",
    "    }},\n",
    "    { \"$sort\" : {\n",
    "        \"victimes\": -1\n",
    "    }}\n",
    "])\n",
    "    \n",
    "list(victimWithEachAgeByVictim)"
   ]
  },
  {
   "cell_type": "code",
   "execution_count": 50,
   "metadata": {
    "scrolled": true
   },
   "outputs": [
    {
     "data": {
      "text/plain": [
       "[{'_id': 'New York', 'victimes': 13},\n",
       " {'_id': 'Illinois', 'victimes': 8},\n",
       " {'_id': 'Michigan', 'victimes': 3},\n",
       " {'_id': 'District of Columbia', 'victimes': 3},\n",
       " {'_id': 'North Carolina', 'victimes': 3},\n",
       " {'_id': 'Connecticut', 'victimes': 3},\n",
       " {'_id': 'Oregon', 'victimes': 2},\n",
       " {'_id': 'Rhodes Island', 'victimes': 1},\n",
       " {'_id': 'Minnesota', 'victimes': 1},\n",
       " {'_id': 'Hawaii', 'victimes': 1},\n",
       " {'_id': 'Virginia', 'victimes': 1},\n",
       " {'_id': 'South Carolina', 'victimes': 1},\n",
       " {'_id': 'Missouri', 'victimes': 1},\n",
       " {'_id': 'Massachusetts', 'victimes': 1},\n",
       " {'_id': 'Delaware', 'victimes': 1},\n",
       " {'_id': 'Ohio', 'victimes': 1},\n",
       " {'_id': 'Colorado', 'victimes': 1},\n",
       " {'_id': 'Indiana', 'victimes': 1},\n",
       " {'_id': 'Alaska', 'victimes': 1},\n",
       " {'_id': 'Oklahoma', 'victimes': 1},\n",
       " {'_id': 'New Jersey', 'victimes': 1},\n",
       " {'_id': 'Florida', 'victimes': 1}]"
      ]
     },
     "execution_count": 50,
     "metadata": {},
     "output_type": "execute_result"
    }
   ],
   "source": [
    "# QCM 4\n",
    "victimWithEachAgeByVictim = table.aggregate([\n",
    "    {\"$match\": { \"Weapon\": \"Fall\"}},\n",
    "    { \"$group\" : {\n",
    "        \"_id\": \"$State\", \"victimes\": {\"$sum\": 1}\n",
    "    }},\n",
    "    { \"$sort\" : {\n",
    "        \"victimes\": -1\n",
    "    }}\n",
    "])\n",
    "    \n",
    "list(victimWithEachAgeByVictim)"
   ]
  },
  {
   "cell_type": "code",
   "execution_count": 52,
   "metadata": {
    "scrolled": true
   },
   "outputs": [
    {
     "data": {
      "text/plain": [
       "[{'_id': 'Alaska', 'Moyenne': 0.5930599369085173},\n",
       " {'_id': 'North Dakota', 'Moyenne': 0.5172413793103449},\n",
       " {'_id': 'Iowa', 'Moyenne': 0.3003003003003003},\n",
       " {'_id': 'Connecticut', 'Moyenne': 0.27385892116182575},\n",
       " {'_id': 'Washington', 'Moyenne': 0.25471698113207547},\n",
       " {'_id': 'Massachusetts', 'Moyenne': 0.2471042471042471},\n",
       " {'_id': 'Maine', 'Moyenne': 0.24489795918367346},\n",
       " {'_id': 'New Jersey', 'Moyenne': 0.23134328358208955},\n",
       " {'_id': 'Minnesota', 'Moyenne': 0.22171945701357465},\n",
       " {'_id': 'Vermont', 'Moyenne': 0.20689655172413793},\n",
       " {'_id': 'Montana', 'Moyenne': 0.2037037037037037},\n",
       " {'_id': 'Nevada', 'Moyenne': 0.2006079027355623},\n",
       " {'_id': 'Nebraska', 'Moyenne': 0.1693548387096774},\n",
       " {'_id': 'Kansas', 'Moyenne': 0.16806722689075632},\n",
       " {'_id': 'Wisconsin', 'Moyenne': 0.16666666666666666},\n",
       " {'_id': 'Idaho', 'Moyenne': 0.16184971098265896},\n",
       " {'_id': 'Wyoming', 'Moyenne': 0.16129032258064516},\n",
       " {'_id': 'Oregon', 'Moyenne': 0.14501510574018128},\n",
       " {'_id': 'Florida', 'Moyenne': 0.12407433282101439},\n",
       " {'_id': 'Maryland', 'Moyenne': 0.12207916070577014},\n",
       " {'_id': 'Pennsylvania', 'Moyenne': 0.12065498419994254},\n",
       " {'_id': 'Michigan', 'Moyenne': 0.11950098489822718},\n",
       " {'_id': 'New York', 'Moyenne': 0.11912920782100384},\n",
       " {'_id': 'South Dakota', 'Moyenne': 0.11538461538461539},\n",
       " {'_id': 'Arkansas', 'Moyenne': 0.114},\n",
       " {'_id': 'West Virginia', 'Moyenne': 0.11304347826086956},\n",
       " {'_id': 'Indiana', 'Moyenne': 0.11259079903147699},\n",
       " {'_id': 'Missouri', 'Moyenne': 0.11165698972755694},\n",
       " {'_id': 'California', 'Moyenne': 0.1106203441228822},\n",
       " {'_id': 'Colorado', 'Moyenne': 0.10905550146056475},\n",
       " {'_id': 'Hawaii', 'Moyenne': 0.10236220472440945},\n",
       " {'_id': 'Illinois', 'Moyenne': 0.10170838299562972},\n",
       " {'_id': 'Ohio', 'Moyenne': 0.10122962539319416},\n",
       " {'_id': 'Arizona', 'Moyenne': 0.1008},\n",
       " {'_id': 'Texas', 'Moyenne': 0.08544303797468354},\n",
       " {'_id': 'Kentucky', 'Moyenne': 0.08396421197522368},\n",
       " {'_id': 'Virginia', 'Moyenne': 0.0834272829763247},\n",
       " {'_id': 'Utah', 'Moyenne': 0.08256880733944955},\n",
       " {'_id': 'Delaware', 'Moyenne': 0.08139534883720931},\n",
       " {'_id': 'Louisiana', 'Moyenne': 0.07744107744107744},\n",
       " {'_id': 'Tennessee', 'Moyenne': 0.07414540202214732},\n",
       " {'_id': 'Mississippi', 'Moyenne': 0.07365439093484419},\n",
       " {'_id': 'New Mexico', 'Moyenne': 0.07142857142857142},\n",
       " {'_id': 'Oklahoma', 'Moyenne': 0.06709677419354838},\n",
       " {'_id': 'Alabama', 'Moyenne': 0.05317164179104478},\n",
       " {'_id': 'North Carolina', 'Moyenne': 0.042212518195050945},\n",
       " {'_id': 'New Hampshire', 'Moyenne': 0.038461538461538464},\n",
       " {'_id': 'Georgia', 'Moyenne': 0.035555555555555556},\n",
       " {'_id': 'Rhodes Island', 'Moyenne': 0.032432432432432434},\n",
       " {'_id': 'South Carolina', 'Moyenne': 0.03134068485200232},\n",
       " {'_id': 'District of Columbia', 'Moyenne': 0.0}]"
      ]
     },
     "execution_count": 52,
     "metadata": {},
     "output_type": "execute_result"
    }
   ],
   "source": [
    "# QCM 4\n",
    "victimWithEachAgeByVictim = table.aggregate([\n",
    "    { \"$group\" : {\n",
    "        \"_id\": \"$State\", \"Moyenne\": {\"$avg\": \"$Victim Count\"}\n",
    "    }},\n",
    "    { \"$sort\" : {\n",
    "        \"Moyenne\": -1\n",
    "    }}\n",
    "])\n",
    "    \n",
    "list(victimWithEachAgeByVictim)"
   ]
  }
 ],
 "metadata": {
  "kernelspec": {
   "display_name": "Python 3",
   "language": "python",
   "name": "python3"
  },
  "language_info": {
   "codemirror_mode": {
    "name": "ipython",
    "version": 3
   },
   "file_extension": ".py",
   "mimetype": "text/x-python",
   "name": "python",
   "nbconvert_exporter": "python",
   "pygments_lexer": "ipython3",
   "version": "3.8.0"
  },
  "varInspector": {
   "cols": {
    "lenName": 16,
    "lenType": 16,
    "lenVar": 40
   },
   "kernels_config": {
    "python": {
     "delete_cmd_postfix": "",
     "delete_cmd_prefix": "del ",
     "library": "var_list.py",
     "varRefreshCmd": "print(var_dic_list())"
    },
    "r": {
     "delete_cmd_postfix": ") ",
     "delete_cmd_prefix": "rm(",
     "library": "var_list.r",
     "varRefreshCmd": "cat(var_dic_list()) "
    }
   },
   "types_to_exclude": [
    "module",
    "function",
    "builtin_function_or_method",
    "instance",
    "_Feature"
   ],
   "window_display": false
  }
 },
 "nbformat": 4,
 "nbformat_minor": 2
}
