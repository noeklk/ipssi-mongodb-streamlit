{
 "cells": [
  {
   "cell_type": "markdown",
   "metadata": {},
   "source": [
    "# Mongodb"
   ]
  },
  {
   "cell_type": "markdown",
   "metadata": {},
   "source": [
    "Dans ce TP nous allons utiliser la librairie pymongo, pour créer une base de données dans mongodb avec python puis la questionner."
   ]
  },
  {
   "cell_type": "markdown",
   "metadata": {},
   "source": [
    "### Data\n",
    "Voici des données au format csv, elles sont une partie d'un dataset recensant les crimes au Etats-Unis entre 1984 et 2014.\n",
    "\n",
    "https://drive.google.com/file/d/10z7kUXDO4BHffJ6ZfVc42CgIs5558vGd/view?usp=sharing"
   ]
  },
  {
   "cell_type": "markdown",
   "metadata": {},
   "source": [
    "### Création de la BDD"
   ]
  },
  {
   "cell_type": "code",
   "execution_count": 21,
   "metadata": {},
   "outputs": [],
   "source": [
    "import pandas as pd\n",
    "from pymongo import MongoClient\n",
    "import json\n",
    "import streamlit as st"
   ]
  },
  {
   "cell_type": "markdown",
   "metadata": {},
   "source": [
    "Créez une fonction python pour passer ce csv dans une base de données mongo, chaque lignes devra être un document."
   ]
  },
  {
   "cell_type": "markdown",
   "metadata": {},
   "source": [
    "### Requêter la BDD"
   ]
  },
  {
   "cell_type": "markdown",
   "metadata": {},
   "source": [
    "Créez un connecteur pour votre BDD"
   ]
  },
  {
   "cell_type": "code",
   "execution_count": 22,
   "metadata": {},
   "outputs": [],
   "source": [
    "client = MongoClient('localhost', 27017)\n",
    "db = client.crimes\n",
    "table = db.documents"
   ]
  },
  {
   "cell_type": "code",
   "execution_count": 10,
   "metadata": {},
   "outputs": [],
   "source": [
    "# Lecture du csv\n",
    "df = pd.read_csv('Crime.csv')"
   ]
  },
  {
   "cell_type": "code",
   "execution_count": 46,
   "metadata": {},
   "outputs": [],
   "source": [
    "# En une seule fois\n",
    "if table.count_documents({}) == 0:    \n",
    "    records = df.to_dict(orient='records')\n",
    "    table.insert_many(records)"
   ]
  },
  {
   "cell_type": "code",
   "execution_count": 47,
   "metadata": {},
   "outputs": [],
   "source": [
    "# Ligne par ligne\n",
    "if table.count_documents({}) == 0:\n",
    "    json_docs = df.apply(lambda x: x.to_json(), axis=1)\n",
    "    for document in json_docs:\n",
    "\n",
    "        json_doc = json.loads(document)\n",
    "        table.insert_one(json_doc)"
   ]
  },
  {
   "cell_type": "markdown",
   "metadata": {},
   "source": [
    "##### Quelles sont les armes utilisées par les criminel?\n",
    "Retournez par rapport à tous les documents les valeurs uniques de la clef weapon."
   ]
  },
  {
   "cell_type": "code",
   "execution_count": 13,
   "metadata": {},
   "outputs": [
    {
     "data": {
      "text/plain": [
       "[{'_id': 'Handgun', 'count': 45748},\n",
       " {'_id': 'Knife', 'count': 19586},\n",
       " {'_id': 'Blunt Object', 'count': 11150},\n",
       " {'_id': 'Shotgun', 'count': 7419},\n",
       " {'_id': 'Rifle', 'count': 4968},\n",
       " {'_id': 'Firearm', 'count': 3629},\n",
       " {'_id': 'Unknown', 'count': 3134},\n",
       " {'_id': 'Strangulation', 'count': 1742},\n",
       " {'_id': 'Fire', 'count': 1254},\n",
       " {'_id': 'Suffocation', 'count': 600},\n",
       " {'_id': 'Drowning', 'count': 265},\n",
       " {'_id': 'Gun', 'count': 212},\n",
       " {'_id': 'Drugs', 'count': 101},\n",
       " {'_id': 'Poison', 'count': 80},\n",
       " {'_id': 'Explosives', 'count': 61},\n",
       " {'_id': 'Fall', 'count': 50}]"
      ]
     },
     "execution_count": 13,
     "metadata": {},
     "output_type": "execute_result"
    }
   ],
   "source": [
    "table.distinct(\"Weapon\")\n",
    "\n",
    "list(table.aggregate([\n",
    "    { \"$group\": {\n",
    "        \"_id\": \"$Weapon\", \"count\" : {\"$sum\": 1}\n",
    "    }},\n",
    "    { \"$sort\": {\"count\": -1}}\n",
    "]))"
   ]
  },
  {
   "cell_type": "markdown",
   "metadata": {},
   "source": [
    "##### Combien de crimes ont été commis en 1980?"
   ]
  },
  {
   "cell_type": "code",
   "execution_count": 54,
   "metadata": {},
   "outputs": [
    {
     "data": {
      "text/plain": [
       "23092"
      ]
     },
     "execution_count": 54,
     "metadata": {},
     "output_type": "execute_result"
    }
   ],
   "source": [
    "table.count_documents({\"Year\":1980})"
   ]
  },
  {
   "cell_type": "markdown",
   "metadata": {},
   "source": [
    "##### Combien de crimes ont été commis par des hommes au Texas?"
   ]
  },
  {
   "cell_type": "code",
   "execution_count": 84,
   "metadata": {},
   "outputs": [
    {
     "data": {
      "text/plain": [
       "6160"
      ]
     },
     "execution_count": 84,
     "metadata": {},
     "output_type": "execute_result"
    }
   ],
   "source": [
    "table.count_documents({\"Perpetrator Sex\": \"Male\", \"State\": \"Texas\"})"
   ]
  },
  {
   "cell_type": "markdown",
   "metadata": {},
   "source": [
    "##### Combien de crimes ont été commis par chaque sexe en Alaska?"
   ]
  },
  {
   "cell_type": "code",
   "execution_count": 114,
   "metadata": {},
   "outputs": [
    {
     "data": {
      "text/plain": [
       "[{'_id': 'Male', 'crimes commis': 226},\n",
       " {'_id': 'Unknown', 'crimes commis': 63},\n",
       " {'_id': 'Female', 'crimes commis': 28}]"
      ]
     },
     "execution_count": 114,
     "metadata": {},
     "output_type": "execute_result"
    }
   ],
   "source": [
    "maleAndFemalePerpetratorsInAlaska = table.aggregate([\n",
    "    { \"$match\": { \"State\": \"Alaska\" }},\n",
    "    { \"$group\": {\"_id\": \"$Perpetrator Sex\", \"crimes commis\": {\"$sum\": 1}}},\n",
    "])\n",
    "\n",
    "list(maleAndFemalePerpetratorsInAlaska)"
   ]
  },
  {
   "cell_type": "markdown",
   "metadata": {},
   "source": [
    "##### Combien y a-t'il eu de victimes dans chaque état?"
   ]
  },
  {
   "cell_type": "code",
   "execution_count": 19,
   "metadata": {},
   "outputs": [
    {
     "data": {
      "text/plain": [
       "[{'_id': 'California', 'victimes': 1678},\n",
       " {'_id': 'New York', 'victimes': 1182},\n",
       " {'_id': 'Florida', 'victimes': 888},\n",
       " {'_id': 'Texas', 'victimes': 810},\n",
       " {'_id': 'New Jersey', 'victimes': 558},\n",
       " {'_id': 'Michigan', 'victimes': 546},\n",
       " {'_id': 'Illinois', 'victimes': 512},\n",
       " {'_id': 'Pennsylvania', 'victimes': 420},\n",
       " {'_id': 'Ohio', 'victimes': 354},\n",
       " {'_id': 'Maryland', 'victimes': 256},\n",
       " {'_id': 'Massachusetts', 'victimes': 256},\n",
       " {'_id': 'Missouri', 'victimes': 250},\n",
       " {'_id': 'Louisiana', 'victimes': 230},\n",
       " {'_id': 'Washington', 'victimes': 216},\n",
       " {'_id': 'Connecticut', 'victimes': 198},\n",
       " {'_id': 'Alaska', 'victimes': 188},\n",
       " {'_id': 'Indiana', 'victimes': 186},\n",
       " {'_id': 'Tennessee', 'victimes': 154},\n",
       " {'_id': 'Virginia', 'victimes': 148},\n",
       " {'_id': 'Nevada', 'victimes': 132},\n",
       " {'_id': 'Arizona', 'victimes': 126},\n",
       " {'_id': 'Kentucky', 'victimes': 122},\n",
       " {'_id': 'Kansas', 'victimes': 120},\n",
       " {'_id': 'North Carolina', 'victimes': 116},\n",
       " {'_id': 'Arkansas', 'victimes': 114},\n",
       " {'_id': 'Alabama', 'victimes': 114},\n",
       " {'_id': 'Colorado', 'victimes': 112},\n",
       " {'_id': 'Oklahoma', 'victimes': 104},\n",
       " {'_id': 'Iowa', 'victimes': 100},\n",
       " {'_id': 'Minnesota', 'victimes': 98},\n",
       " {'_id': 'Wisconsin', 'victimes': 96},\n",
       " {'_id': 'Oregon', 'victimes': 96},\n",
       " {'_id': 'Georgia', 'victimes': 88},\n",
       " {'_id': 'Mississippi', 'victimes': 78},\n",
       " {'_id': 'South Carolina', 'victimes': 54},\n",
       " {'_id': 'West Virginia', 'victimes': 52},\n",
       " {'_id': 'Nebraska', 'victimes': 42},\n",
       " {'_id': 'Maine', 'victimes': 36},\n",
       " {'_id': 'New Mexico', 'victimes': 30},\n",
       " {'_id': 'North Dakota', 'victimes': 30},\n",
       " {'_id': 'Idaho', 'victimes': 28},\n",
       " {'_id': 'Hawaii', 'victimes': 26},\n",
       " {'_id': 'Montana', 'victimes': 22},\n",
       " {'_id': 'Wyoming', 'victimes': 20},\n",
       " {'_id': 'Utah', 'victimes': 18},\n",
       " {'_id': 'Delaware', 'victimes': 14},\n",
       " {'_id': 'Vermont', 'victimes': 6},\n",
       " {'_id': 'South Dakota', 'victimes': 6},\n",
       " {'_id': 'Rhodes Island', 'victimes': 6},\n",
       " {'_id': 'New Hampshire', 'victimes': 4},\n",
       " {'_id': 'District of Columbia', 'victimes': 0}]"
      ]
     },
     "execution_count": 19,
     "metadata": {},
     "output_type": "execute_result"
    }
   ],
   "source": [
    "victimInEachState = table.aggregate([\n",
    "    { \"$group\" : {\n",
    "        \"_id\": \"$State\", \"victimes\": {\"$sum\": \"$Victim Count\"}\n",
    "    }},\n",
    "    { \"$sort\": { \"victimes\": -1}}\n",
    "])\n",
    "\n",
    "list(victimInEachState)"
   ]
  },
  {
   "cell_type": "markdown",
   "metadata": {},
   "source": [
    "### Bonus"
   ]
  },
  {
   "cell_type": "markdown",
   "metadata": {},
   "source": [
    "Installez la librairie streamlit\n",
    "Créez un dashboard qui donne la posibilité de séléctionner une année pour retourner un barplot du nombre de crime commis avec chaque arme."
   ]
  },
  {
   "cell_type": "code",
   "execution_count": 26,
   "metadata": {},
   "outputs": [
    {
     "data": {
      "text/plain": [
       "[{'_id': 'Gun', 'victimes': 12},\n",
       " {'_id': 'Strangulation', 'victimes': 38},\n",
       " {'_id': 'Handgun', 'victimes': 896},\n",
       " {'_id': 'Poison', 'victimes': 2},\n",
       " {'_id': 'Unknown', 'victimes': 122},\n",
       " {'_id': 'Fall', 'victimes': 2},\n",
       " {'_id': 'Blunt Object', 'victimes': 80},\n",
       " {'_id': 'Drowning', 'victimes': 4},\n",
       " {'_id': 'Rifle', 'victimes': 204},\n",
       " {'_id': 'Explosives', 'victimes': 32},\n",
       " {'_id': 'Fire', 'victimes': 524},\n",
       " {'_id': 'Knife', 'victimes': 204},\n",
       " {'_id': 'Firearm', 'victimes': 116},\n",
       " {'_id': 'Shotgun', 'victimes': 154},\n",
       " {'_id': 'Suffocation', 'victimes': 20},\n",
       " {'_id': 'Drugs', 'victimes': 0}]"
      ]
     },
     "execution_count": 26,
     "metadata": {},
     "output_type": "execute_result"
    }
   ],
   "source": [
    "victimWithEachWeapon = table.aggregate([\n",
    "    {\"$match\": {\"Year\": 1980}},\n",
    "    { \"$group\" : {\n",
    "        \"_id\": \"$Weapon\", \"victimes\": {\"$sum\": \"$Victim Count\"}\n",
    "    }}\n",
    "])\n",
    "    \n",
    "list(victimWithEachWeapon)"
   ]
  }
 ],
 "metadata": {
  "kernelspec": {
   "display_name": "Python 3",
   "language": "python",
   "name": "python3"
  },
  "language_info": {
   "codemirror_mode": {
    "name": "ipython",
    "version": 3
   },
   "file_extension": ".py",
   "mimetype": "text/x-python",
   "name": "python",
   "nbconvert_exporter": "python",
   "pygments_lexer": "ipython3",
   "version": "3.8.0"
  },
  "varInspector": {
   "cols": {
    "lenName": 16,
    "lenType": 16,
    "lenVar": 40
   },
   "kernels_config": {
    "python": {
     "delete_cmd_postfix": "",
     "delete_cmd_prefix": "del ",
     "library": "var_list.py",
     "varRefreshCmd": "print(var_dic_list())"
    },
    "r": {
     "delete_cmd_postfix": ") ",
     "delete_cmd_prefix": "rm(",
     "library": "var_list.r",
     "varRefreshCmd": "cat(var_dic_list()) "
    }
   },
   "types_to_exclude": [
    "module",
    "function",
    "builtin_function_or_method",
    "instance",
    "_Feature"
   ],
   "window_display": false
  }
 },
 "nbformat": 4,
 "nbformat_minor": 2
}