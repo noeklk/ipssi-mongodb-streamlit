{
 "cells": [
  {
   "cell_type": "markdown",
   "metadata": {},
   "source": [
    "# EXO"
   ]
  },
  {
   "cell_type": "markdown",
   "metadata": {},
   "source": [
    "### importer les données json dans votre base de données"
   ]
  },
  {
   "cell_type": "code",
   "execution_count": 138,
   "metadata": {},
   "outputs": [],
   "source": [
    "import pandas as pd\n",
    "from pymongo import MongoClient\n",
    "import json\n",
    "import streamlit as st\n",
    "from bson.objectid import ObjectId\n",
    "import re"
   ]
  },
  {
   "cell_type": "code",
   "execution_count": 20,
   "metadata": {},
   "outputs": [],
   "source": [
    "client = MongoClient(\"localhost\", 4344)\n",
    "db = client.library_repository\n",
    "table = db.libraries"
   ]
  },
  {
   "cell_type": "code",
   "execution_count": 15,
   "metadata": {},
   "outputs": [],
   "source": [
    "# Lecture du json\n",
    "df = pd.read_json(\"./repertoire-bibliotheques.json\")\n"
   ]
  },
  {
   "cell_type": "code",
   "execution_count": 106,
   "metadata": {},
   "outputs": [],
   "source": [
    "# Import des données\n",
    "if table.count_documents({}) == 0:    \n",
    "    records = df.to_dict(orient=\"records\")\n",
    "    table.insert_many(records)\n",
    "else:\n",
    "    print(\"Table déja alimenté\")"
   ]
  },
  {
   "cell_type": "code",
   "execution_count": 32,
   "metadata": {},
   "outputs": [
    {
     "data": {
      "text/plain": [
       "['_id', 'datasetid', 'recordid', 'fields', 'geometry', 'record_timestamp']"
      ]
     },
     "execution_count": 32,
     "metadata": {},
     "output_type": "execute_result"
    }
   ],
   "source": [
    "list(table.find_one())"
   ]
  },
  {
   "cell_type": "markdown",
   "metadata": {},
   "source": [
    "### combien de bibliotheques se trouve a paris"
   ]
  },
  {
   "cell_type": "code",
   "execution_count": 40,
   "metadata": {},
   "outputs": [
    {
     "data": {
      "text/plain": [
       "[{'_id': 'Compteur', 'Nombre de librairies à Paris': 615}]"
      ]
     },
     "execution_count": 40,
     "metadata": {},
     "output_type": "execute_result"
    }
   ],
   "source": [
    "librariesInParis = table.aggregate([\n",
    "    { \"$match\": {\n",
    "        \"fields.commune\": \"Paris\"\n",
    "    }},\n",
    "    { \"$group\": {\n",
    "        \"_id\": \"Compteur\", \"Nombre de librairies à Paris\": { \"$sum\": 1}\n",
    "    }}\n",
    "])\n",
    "\n",
    "list(librariesInParis)"
   ]
  },
  {
   "cell_type": "markdown",
   "metadata": {},
   "source": [
    "### Faites un update sur le champs \"commune\" pour le passer en lower case et refaite le compte des bibliotheques a paris"
   ]
  },
  {
   "cell_type": "code",
   "execution_count": 109,
   "metadata": {
    "scrolled": false
   },
   "outputs": [],
   "source": [
    "for doc in table.find(no_cursor_timeout=True):\n",
    "    pk = ObjectId(str(doc.get(\"_id\")))\n",
    "    fields = doc.get('fields')\n",
    "    city = fields.get('commune')\n",
    "    if city:\n",
    "        city = city.lower()\n",
    "        table.update_one({\"_id\": pk}, {\"$set\":{\"fields.commune\": city}})\n"
   ]
  },
  {
   "cell_type": "code",
   "execution_count": 110,
   "metadata": {},
   "outputs": [
    {
     "data": {
      "text/plain": [
       "[{'_id': 'Compteur', 'Nombre de librairies à Paris': 615}]"
      ]
     },
     "execution_count": 110,
     "metadata": {},
     "output_type": "execute_result"
    }
   ],
   "source": [
    "librariesInParis = table.aggregate([\n",
    "    { \"$match\": {\n",
    "        \"fields.commune\": \"paris\"\n",
    "    }},\n",
    "    { \"$group\": {\n",
    "        \"_id\": \"Compteur\", \"Nombre de librairies à Paris\": { \"$sum\": 1}\n",
    "    }}\n",
    "])\n",
    "\n",
    "list(librariesInParis)"
   ]
  },
  {
   "cell_type": "markdown",
   "metadata": {},
   "source": [
    "### afficher tout les noms d'établissements situé 95"
   ]
  },
  {
   "cell_type": "code",
   "execution_count": 124,
   "metadata": {},
   "outputs": [
    {
     "data": {
      "text/plain": [
       "[{'_id': 'Médiathèque municipale François Mauriac'},\n",
       " {'_id': 'Air France. Direction de la communication.  Centre de Documentation'},\n",
       " {'_id': \"Musée d'Art et d'Histoire Louis Senlecq. Bibliothèque et archives\"},\n",
       " {'_id': 'Bibliothèque intercommunale Georges-Brassens'},\n",
       " {'_id': 'Médiathèque de Jouy le Moutier'},\n",
       " {'_id': \"Médiathèque de l'Horloge\"},\n",
       " {'_id': 'Médiathèque municipale Les Temps Modernes'},\n",
       " {'_id': 'Archives municipales'},\n",
       " {'_id': 'Bibliothèque intercommunale du Val-de-France'},\n",
       " {'_id': 'Médiathèque Maurice Genevoix'},\n",
       " {'_id': \"Musée de la Renaissance - château d'Ecouen\"},\n",
       " {'_id': \"Bibliothèque départementale du Val d'Oise\"},\n",
       " {'_id': 'Institut universitaire de technologie. Bibliothèque'},\n",
       " {'_id': \"Ecole nationale supérieure de l'électronique et de ses applications. Centre de documentation\"},\n",
       " {'_id': 'Médiathèque municipale Boris Vian'},\n",
       " {'_id': 'Médiathèque  Elsa-Triolet et Louis-Aragon'},\n",
       " {'_id': \"Médiathèque intercommunale L'Éclipse\"},\n",
       " {'_id': \"Val-d'Oise\"},\n",
       " {'_id': 'Médiathèque George Sand'},\n",
       " {'_id': \"Ecole nationale supérieure d'arts de Paris-Cergy. Centre de documentation\"},\n",
       " {'_id': \"Bibliothèque d'Etude et d'Information\"},\n",
       " {'_id': \"Bibliothèque Centre culturel Art'M\"},\n",
       " {'_id': 'Bibliothèque Georges Duhamel'},\n",
       " {'_id': 'Centre hospitalier René Dubos. Service de documentation'},\n",
       " {'_id': 'Bibliothèque intercommunale Elsa Triolet'},\n",
       " {'_id': \"Médiathèque de l'Astrolabe\"},\n",
       " {'_id': 'Médiathèque Théodore Monod'},\n",
       " {'_id': 'Médiathèque Stendhal'},\n",
       " {'_id': 'Institut Universitaire de Technologie. Bibliothèque'},\n",
       " {'_id': 'Bibliothèque intercommunale  Anna-Langfus. Sarcelles'},\n",
       " {'_id': 'Bibliothèque municipale Georges Brassens'},\n",
       " {'_id': 'Bibliothèque des Dames Gilles'},\n",
       " {'_id': 'Médiathèque municipale'},\n",
       " {'_id': \"Musée Jean-Jacques Rousseau. Bibliothèque d'études rousseauistes\"},\n",
       " {'_id': 'Médiathèque intercommunale Georges Pompidou'},\n",
       " {'_id': 'Bibliothèque-Médiathèque Antoine de Saint-Exupéry'},\n",
       " {'_id': 'Ecole supérieure des sciences économiques et commerciales. Learning Center'},\n",
       " {'_id': 'Bibliothèque du Pays de France'},\n",
       " {'_id': 'Bibliothèque Guillaume Apollinaire'},\n",
       " {'_id': 'Médiathèque Maupassant'},\n",
       " {'_id': 'Bibliothèque musicale François Lang'},\n",
       " {'_id': 'Bibliothèque municipale Aimé Césaire'},\n",
       " {'_id': 'Bibliothèque Albert Camus'},\n",
       " {'_id': \"Réseau des médiathèques intercommunales du Val Parisis, Val d'Oise\"},\n",
       " {'_id': 'Médiathèque de Coulanges'},\n",
       " {'_id': 'Université de Cergy-Pontoise'},\n",
       " {'_id': 'Bibliothèque Aimé Césaire'},\n",
       " {'_id': 'Musée François Mauriac'},\n",
       " {'_id': 'Université de Cergy-Pontoise. Bibliothèque universitaire. Site de Cergy-Hirsch'},\n",
       " {'_id': 'Bibliothèque municipale'}]"
      ]
     },
     "execution_count": 124,
     "metadata": {},
     "output_type": "execute_result"
    }
   ],
   "source": [
    "etablissementIn95 = table.aggregate([\n",
    "    { \"$match\": {\n",
    "        \"fields.codepostal\": { \"$regex\":\"^95[0-9]{3}$\"}\n",
    "    }},\n",
    "    { \"$group\": {\n",
    "        \"_id\": \"$fields.nometablissement\"\n",
    "    }}\n",
    "])\n",
    "\n",
    "list(etablissementIn95)"
   ]
  },
  {
   "cell_type": "markdown",
   "metadata": {},
   "source": [
    "### requeter la bdd pour creer un dictionnaire comportant le nombre de bibliotheque ouvert par jour de la semaine"
   ]
  },
  {
   "cell_type": "code",
   "execution_count": 242,
   "metadata": {
    "scrolled": true
   },
   "outputs": [],
   "source": [
    "day_dict = dict({\"lundi\": 0 , \"mardi\": 1 , \"mercredi\": 2, \"jeudi\": 3, \"vendredi\": 4, \"samedi\": 5, \"dimanche\": 6})\n",
    "\n",
    "def increment_interval_days(dictionary: dict, input: str):\n",
    "    if re.search(\" (au)+ \", input, re.IGNORECASE):\n",
    "        split_string = input.split()\n",
    "        au_index = split_string.index(\"au\")\n",
    "        \n",
    "        start_day = split_string[au_index - 1].lower()\n",
    "        end_day = split_string[au_index + 1].lower()\n",
    "        \n",
    "        isValidDay = False\n",
    "        \n",
    "        for i in day_dict:\n",
    "            if start_day == i:\n",
    "                isValidDay = True\n",
    "                \n",
    "        if isValidDay == False:\n",
    "            return dictionary\n",
    "        \n",
    "        start_day_day_dict_index = day_dict[start_day]\n",
    "        \n",
    "        for i in range(start_day_day_dict_index + 1, 6):\n",
    "            day = list(day_dict.items())[i][0]\n",
    "    \n",
    "            if end_day == day:\n",
    "                break\n",
    "                \n",
    "            dictionary[day] +=1\n",
    "    \n",
    "    return dictionary"
   ]
  },
  {
   "cell_type": "code",
   "execution_count": 243,
   "metadata": {
    "scrolled": true
   },
   "outputs": [
    {
     "name": "stdout",
     "output_type": "stream",
     "text": [
      "{'lundi': 624, 'mardi': 848, 'mercredi': 859, 'jeudi': 771, 'vendredi': 929, 'samedi': 491, 'dimanche': 70}\n"
     ]
    }
   ],
   "source": [
    "libraryOpenedOnDay = dict({\"lundi\": 0, \"mardi\": 0, \"mercredi\": 0, \"jeudi\": 0, \"vendredi\": 0, \"samedi\": 0, \"dimanche\": 0})\n",
    "\n",
    "for doc in table.find(no_cursor_timeout=True):\n",
    "    fields = doc.get('fields')\n",
    "    openedHours = str(fields.get('heuresouverture'))\n",
    "    \n",
    "    libraryOpenedOnDay = increment_interval_days(libraryOpenedOnDay, openedHours)\n",
    "            \n",
    "    for i in libraryOpenedOnDay:\n",
    "        if re.search(i, openedHours, re.IGNORECASE):\n",
    "            libraryOpenedOnDay[i] +=1\n",
    "\n",
    "print(libraryOpenedOnDay)"
   ]
  },
  {
   "cell_type": "markdown",
   "metadata": {},
   "source": [
    "### certains jours sont bien plus representé que d'autres pourquoi ?"
   ]
  },
  {
   "cell_type": "raw",
   "metadata": {},
   "source": [
    "Dans le résultat audessus je compte les jours entre interval, les interval que je ne compte pas sont ceux des mois donc pas d'explication quelconque par rapport au résultat présenté audessus"
   ]
  },
  {
   "cell_type": "markdown",
   "metadata": {},
   "source": [
    "# TP"
   ]
  },
  {
   "cell_type": "markdown",
   "metadata": {},
   "source": [
    "### le TP consiste a :\n",
    "  - acquerir de la donnees se mettant a jour assez régulièrement via une api ou du scrapping\n",
    "    ex: (meteo, bourse, crypto-monaie ect.)\n",
    "  - stocker cette données dans votre base mongodb rajouter la date precise si ce n'est pas dans vos data\n",
    "  - mettre en place un outils permetant de visualiser ses data par rapport a la date\n",
    "    ex:(streamlit, flask ect.)"
   ]
  },
  {
   "cell_type": "code",
   "execution_count": null,
   "metadata": {},
   "outputs": [],
   "source": []
  }
 ],
 "metadata": {
  "kernelspec": {
   "display_name": "Python 3",
   "language": "python",
   "name": "python3"
  },
  "language_info": {
   "codemirror_mode": {
    "name": "ipython",
    "version": 3
   },
   "file_extension": ".py",
   "mimetype": "text/x-python",
   "name": "python",
   "nbconvert_exporter": "python",
   "pygments_lexer": "ipython3",
   "version": "3.8.0"
  },
  "varInspector": {
   "cols": {
    "lenName": 16,
    "lenType": 16,
    "lenVar": 40
   },
   "kernels_config": {
    "python": {
     "delete_cmd_postfix": "",
     "delete_cmd_prefix": "del ",
     "library": "var_list.py",
     "varRefreshCmd": "print(var_dic_list())"
    },
    "r": {
     "delete_cmd_postfix": ") ",
     "delete_cmd_prefix": "rm(",
     "library": "var_list.r",
     "varRefreshCmd": "cat(var_dic_list()) "
    }
   },
   "types_to_exclude": [
    "module",
    "function",
    "builtin_function_or_method",
    "instance",
    "_Feature"
   ],
   "window_display": false
  }
 },
 "nbformat": 4,
 "nbformat_minor": 2
}
